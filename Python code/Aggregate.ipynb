{
 "cells": [
  {
   "cell_type": "code",
   "execution_count": 1,
   "id": "c39e8970-b391-4e31-801d-a6455da11c6d",
   "metadata": {},
   "outputs": [],
   "source": [
    "import numpy as np\n",
    "import pandas as pd\n",
    "import matplotlib.pyplot as plt\n",
    "\n",
    "import math"
   ]
  },
  {
   "cell_type": "code",
   "execution_count": 2,
   "id": "2b226426-107c-4054-8b8d-313cfb79b9c0",
   "metadata": {},
   "outputs": [
    {
     "data": {
      "text/plain": [
       "(6447459, 3)"
      ]
     },
     "execution_count": 2,
     "metadata": {},
     "output_type": "execute_result"
    }
   ],
   "source": [
    "df_list = []\n",
    "for i in range(100):\n",
    "    batch_df = pd.read_csv(f'NewStock/NewStock_Sentiment_Batch_{i:03d}.csv', index_col=0)\n",
    "    df_list.append(batch_df)\n",
    "df_main = pd.concat(df_list)\n",
    "df_main.shape"
   ]
  },
  {
   "cell_type": "code",
   "execution_count": 4,
   "id": "f7b8f064-2a1e-486a-8a43-429efa619732",
   "metadata": {},
   "outputs": [
    {
     "data": {
      "text/plain": [
       "TSLA     1798559\n",
       "AAPL     1231463\n",
       "NFLX      666007\n",
       "QQQ       592262\n",
       "AMZN      450386\n",
       "DIS       245475\n",
       "DIA       188601\n",
       "VIX       188402\n",
       "BAC       164955\n",
       "SPY       151985\n",
       "GOOG      135367\n",
       "FB        111101\n",
       "GOOGL     107910\n",
       "T          68788\n",
       "HD         52424\n",
       "V          50100\n",
       "VZ         49401\n",
       "JNJ        38445\n",
       "ADBE       36582\n",
       "BRK.B      33547\n",
       "PG         31413\n",
       "UNH        16049\n",
       "INTC       15329\n",
       "WMT        11699\n",
       "BRK.A      11209\n",
       "Name: Symbol, dtype: int64"
      ]
     },
     "execution_count": 4,
     "metadata": {},
     "output_type": "execute_result"
    }
   ],
   "source": [
    "df_main.Symbol.value_counts()"
   ]
  },
  {
   "cell_type": "code",
   "execution_count": 3,
   "id": "6dfa95d5-5f5b-43ed-8062-f6cdb9b14b8b",
   "metadata": {},
   "outputs": [
    {
     "data": {
      "text/html": [
       "<div>\n",
       "<style scoped>\n",
       "    .dataframe tbody tr th:only-of-type {\n",
       "        vertical-align: middle;\n",
       "    }\n",
       "\n",
       "    .dataframe tbody tr th {\n",
       "        vertical-align: top;\n",
       "    }\n",
       "\n",
       "    .dataframe thead th {\n",
       "        text-align: right;\n",
       "    }\n",
       "</style>\n",
       "<table border=\"1\" class=\"dataframe\">\n",
       "  <thead>\n",
       "    <tr style=\"text-align: right;\">\n",
       "      <th></th>\n",
       "      <th>Date</th>\n",
       "      <th>Symbol</th>\n",
       "      <th>Sentiment</th>\n",
       "    </tr>\n",
       "  </thead>\n",
       "  <tbody>\n",
       "    <tr>\n",
       "      <th>0</th>\n",
       "      <td>2020-07-19</td>\n",
       "      <td>AAPL</td>\n",
       "      <td>0.941510</td>\n",
       "    </tr>\n",
       "    <tr>\n",
       "      <th>1</th>\n",
       "      <td>2020-07-19</td>\n",
       "      <td>AAPL</td>\n",
       "      <td>1.000000</td>\n",
       "    </tr>\n",
       "    <tr>\n",
       "      <th>2</th>\n",
       "      <td>2020-07-19</td>\n",
       "      <td>AAPL</td>\n",
       "      <td>1.000000</td>\n",
       "    </tr>\n",
       "    <tr>\n",
       "      <th>3</th>\n",
       "      <td>2020-07-19</td>\n",
       "      <td>AAPL</td>\n",
       "      <td>0.995287</td>\n",
       "    </tr>\n",
       "    <tr>\n",
       "      <th>4</th>\n",
       "      <td>2020-07-19</td>\n",
       "      <td>AAPL</td>\n",
       "      <td>1.000000</td>\n",
       "    </tr>\n",
       "  </tbody>\n",
       "</table>\n",
       "</div>"
      ],
      "text/plain": [
       "         Date Symbol  Sentiment\n",
       "0  2020-07-19   AAPL   0.941510\n",
       "1  2020-07-19   AAPL   1.000000\n",
       "2  2020-07-19   AAPL   1.000000\n",
       "3  2020-07-19   AAPL   0.995287\n",
       "4  2020-07-19   AAPL   1.000000"
      ]
     },
     "execution_count": 3,
     "metadata": {},
     "output_type": "execute_result"
    }
   ],
   "source": [
    "df_main.head()"
   ]
  },
  {
   "cell_type": "code",
   "execution_count": 11,
   "id": "60687bce-09f4-48f9-acf3-64921732c086",
   "metadata": {},
   "outputs": [],
   "source": [
    "df = df_main.groupby(by=['Symbol', 'Date'], as_index=True).mean()"
   ]
  },
  {
   "cell_type": "code",
   "execution_count": 15,
   "id": "69dd7db1-34c0-484d-801b-912e9eda24e9",
   "metadata": {},
   "outputs": [],
   "source": [
    "df.to_csv('final_s.csv')"
   ]
  },
  {
   "cell_type": "code",
   "execution_count": null,
   "id": "f2e7bab9-c9c8-4b17-86f2-a6e4637b0254",
   "metadata": {},
   "outputs": [],
   "source": []
  }
 ],
 "metadata": {
  "kernelspec": {
   "display_name": "Python 3 (ipykernel)",
   "language": "python",
   "name": "python3"
  },
  "language_info": {
   "codemirror_mode": {
    "name": "ipython",
    "version": 3
   },
   "file_extension": ".py",
   "mimetype": "text/x-python",
   "name": "python",
   "nbconvert_exporter": "python",
   "pygments_lexer": "ipython3",
   "version": "3.8.3"
  }
 },
 "nbformat": 4,
 "nbformat_minor": 5
}
