{
 "cells": [
  {
   "cell_type": "markdown",
   "id": "7a9a22cf-6249-4c77-8088-809c1d0414d5",
   "metadata": {},
   "source": [
    "# Classifier"
   ]
  },
  {
   "cell_type": "markdown",
   "id": "8274158e-5a00-43c5-bf9a-e828b9d9d03c",
   "metadata": {},
   "source": [
    "## Imports"
   ]
  },
  {
   "cell_type": "code",
   "execution_count": 1,
   "id": "e42877f9-8920-4853-9c59-47f7d6949f38",
   "metadata": {},
   "outputs": [],
   "source": [
    "import numpy as np\n",
    "import pandas as pd\n",
    "import math\n",
    "\n",
    "import torch\n",
    "from torch.utils.data import DataLoader\n",
    "import torch.optim as optim\n",
    "import torch.nn.functional as F\n",
    "\n",
    "import matplotlib.pyplot as plt\n",
    "import pickle\n",
    "import os\n",
    "import gc\n",
    "import random"
   ]
  },
  {
   "cell_type": "code",
   "execution_count": 2,
   "id": "1dba1c8c-c9e6-4310-8646-92f7ee47c5ee",
   "metadata": {},
   "outputs": [],
   "source": [
    "random.seed(42)"
   ]
  },
  {
   "cell_type": "code",
   "execution_count": 3,
   "id": "a8c50677-14d8-4cd4-8829-db905c8b2125",
   "metadata": {},
   "outputs": [
    {
     "name": "stdout",
     "output_type": "stream",
     "text": [
      "cuda:0\n"
     ]
    }
   ],
   "source": [
    "device = torch.device(\"cuda:0\" if torch.cuda.is_available() else \"cpu\")\n",
    "print(device)"
   ]
  },
  {
   "cell_type": "markdown",
   "id": "0fd5b3d0-9aec-452a-9ebc-d09f7b4db434",
   "metadata": {},
   "source": [
    "## Dataset"
   ]
  },
  {
   "cell_type": "code",
   "execution_count": 4,
   "id": "46a7c7bc-f19c-455e-ad44-a62344774510",
   "metadata": {},
   "outputs": [],
   "source": [
    "class StockDataset(torch.utils.data.IterableDataset):\n",
    "    def __init__(self, X, y):\n",
    "        \"\"\"\n",
    "        X: [data_len, 768]: Sentence Embeddings\n",
    "        y: [data_len,]: labels: -1, 0, 1\n",
    "        \"\"\"\n",
    "        y_not_neutral = (y != 0)\n",
    "        \n",
    "        self.X = X[y_not_neutral, :]\n",
    "        self.y = y[y_not_neutral]\n",
    "        self.y[self.y == -1] = 0\n",
    "        \n",
    "        self.data_len = self.X.shape[0]\n",
    "    \n",
    "    def __iter__(self):\n",
    "        worker_info = torch.utils.data.get_worker_info()\n",
    "        \n",
    "        if worker_info is None:\n",
    "            #if only one worker\n",
    "            for i in range(self.data_len):\n",
    "                yield self.X[i,:], self.y[i]\n",
    "    \n",
    "        else:\n",
    "            #multiple workers\n",
    "            per_worker = int(math.ceil(self.data_len / float(worker_info.num_workers)))\n",
    "            worker_id = worker_info.id\n",
    "            iter_start = worker_id * per_worker\n",
    "            iter_end = min(iter_start + per_worker, self.data_len)\n",
    "\n",
    "            for i in range(iter_start, iter_end):\n",
    "                yield self.X[i, :], self.y[i]"
   ]
  },
  {
   "cell_type": "code",
   "execution_count": 5,
   "id": "7fa45bed-3a3c-4c94-8ac7-6e431ca8b9ac",
   "metadata": {},
   "outputs": [],
   "source": [
    "def load_data_from_disk(path, file_name, batches):\n",
    "    X = []\n",
    "    y = []\n",
    "    for batch in batches:\n",
    "        file_path = path + file_name + f'{batch:03d}'\n",
    "        df = pd.read_csv(file_path, index_col=0)\n",
    "        tmp_x = np.array(df.loc[:, '0':'767'])\n",
    "        tmp_y = np.array(df['Label'])\n",
    "        X.append(tmp_x)\n",
    "        y.append(tmp_y)\n",
    "    X = np.concatenate(X)\n",
    "    y = np.concatenate(y)\n",
    "    \n",
    "    return X, y"
   ]
  },
  {
   "cell_type": "code",
   "execution_count": 6,
   "id": "2606a9c2-e383-4c9f-9034-ee39ca07bb20",
   "metadata": {},
   "outputs": [
    {
     "name": "stdout",
     "output_type": "stream",
     "text": [
      "(35580, 768) (35580,)\n"
     ]
    }
   ],
   "source": [
    "path = '/home/rmeshkin/ML-Project/'\n",
    "file_name = 'Stock_Embs_Batch_'\n",
    "X, y = load_data_from_disk(path, file_name, [5,6,7])\n",
    "print(X.shape, y.shape)"
   ]
  },
  {
   "cell_type": "markdown",
   "id": "cb7e6636-b485-46e7-9a07-48632f0a37da",
   "metadata": {},
   "source": [
    "## Classifier Model"
   ]
  },
  {
   "cell_type": "code",
   "execution_count": 7,
   "id": "98d1f58e-6c7d-475e-99b2-9dabbe9a59fa",
   "metadata": {},
   "outputs": [],
   "source": [
    "class ClassifierModel(torch.nn.Module):\n",
    "    def __init__(self, h1, h2, output_dim):\n",
    "        super(ClassifierModel, self).__init__()\n",
    "\n",
    "        self.linear1 = torch.nn.Linear(768, h1)\n",
    "        self.activation1 = torch.nn.ReLU()\n",
    "\n",
    "        self.linear2 = torch.nn.Linear(h1, h2)\n",
    "        self.dropout2 = torch.nn.Dropout(0.5)\n",
    "        self.activation2 = torch.nn.ReLU()\n",
    "\n",
    "        self.linear3 = torch.nn.Linear(h2, output_dim)\n",
    "        self.sigmoid = torch.nn.Sigmoid()\n",
    "\n",
    "        torch.nn.init.xavier_uniform_(self.linear1.weight)\n",
    "        torch.nn.init.zeros_(self.linear1.bias)\n",
    "        torch.nn.init.xavier_uniform_(self.linear2.weight)\n",
    "        torch.nn.init.zeros_(self.linear2.bias)\n",
    "        torch.nn.init.xavier_uniform_(self.linear3.weight)\n",
    "        torch.nn.init.zeros_(self.linear3.bias)\n",
    "  \n",
    "\n",
    "    def forward(self, embedding_batch):\n",
    "        #embedding_batch: [batch_size, embedding_length]\n",
    "        l1_out = self.linear1(embedding_batch)\n",
    "        l1_act = self.activation1(l1_out)\n",
    "\n",
    "        l2_out = self.linear2(l1_act)\n",
    "        l2_drop = self.dropout2(l2_out)\n",
    "        l2_act = self.activation2(l2_drop)\n",
    "\n",
    "        out = self.sigmoid(self.linear3(l2_act))\n",
    "        return out\n",
    "  \n",
    "\n",
    "    def reset(self):\n",
    "        torch.nn.init.xavier_uniform_(self.linear1.weight)\n",
    "        torch.nn.init.zeros_(self.linear1.bias)\n",
    "        torch.nn.init.xavier_uniform_(self.linear2.weight)\n",
    "        torch.nn.init.zeros_(self.linear2.bias)\n",
    "        torch.nn.init.xavier_uniform_(self.linear3.weight)\n",
    "        torch.nn.init.zeros_(self.linear3.bias)"
   ]
  },
  {
   "cell_type": "code",
   "execution_count": 8,
   "id": "172adaa7-40ca-4bc6-9e03-7669ea3cbf22",
   "metadata": {},
   "outputs": [
    {
     "data": {
      "text/plain": [
       "ClassifierModel(\n",
       "  (linear1): Linear(in_features=768, out_features=250, bias=True)\n",
       "  (activation1): ReLU()\n",
       "  (linear2): Linear(in_features=250, out_features=250, bias=True)\n",
       "  (dropout2): Dropout(p=0.5, inplace=False)\n",
       "  (activation2): ReLU()\n",
       "  (linear3): Linear(in_features=250, out_features=1, bias=True)\n",
       "  (sigmoid): Sigmoid()\n",
       ")"
      ]
     },
     "execution_count": 8,
     "metadata": {},
     "output_type": "execute_result"
    }
   ],
   "source": [
    "net = ClassifierModel(250, 250, 1).to(device)\n",
    "net"
   ]
  },
  {
   "cell_type": "code",
   "execution_count": 9,
   "id": "ecbb8ffd-2ecd-4a03-88b5-48208726a914",
   "metadata": {},
   "outputs": [],
   "source": [
    "def get_accuracy(loader, net):\n",
    "    total = 0\n",
    "    correct = 0\n",
    "    net.eval()\n",
    "    with torch.no_grad():\n",
    "        for data in loader:\n",
    "            X, y = data[0].to(device).float(), data[1].to(device).int()\n",
    "            y_pred = net(X)\n",
    "            pos = (y_pred > 0.5)\n",
    "            neg = (y_pred < 0.5)\n",
    "            y_pred[pos] = 1\n",
    "            y_pred[neg] = 0\n",
    "            y_pred = y_pred.int().reshape(-1,)\n",
    "\n",
    "            correct += (y_pred == y).sum().item()\n",
    "            total += y.size(0)\n",
    "    net.train()\n",
    "    return correct*100.0/total"
   ]
  },
  {
   "cell_type": "markdown",
   "id": "47ee23bb-7d6f-4e40-bc41-8f4121cd32d4",
   "metadata": {},
   "source": [
    "## Preparing to Train"
   ]
  },
  {
   "cell_type": "code",
   "execution_count": 10,
   "id": "4673f7e6-d99b-41f7-80ca-8c033f0c7ff9",
   "metadata": {},
   "outputs": [],
   "source": [
    "all_batches = [i for i in range(100)]\n",
    "random.shuffle(all_batches)\n",
    "\n",
    "train_batches = all_batches[:90]\n",
    "dev_batches = all_batches[90:]"
   ]
  },
  {
   "cell_type": "code",
   "execution_count": 11,
   "id": "50d87246-67d0-40ff-bb5a-f3ed03a405ab",
   "metadata": {},
   "outputs": [],
   "source": [
    "X_train, y_train = load_data_from_disk(path, file_name, train_batches)\n",
    "X_dev, y_dev = load_data_from_disk(path, file_name, dev_batches)"
   ]
  },
  {
   "cell_type": "code",
   "execution_count": 12,
   "id": "ca5a7984-4052-481e-bd8c-b38e5c80a6cd",
   "metadata": {},
   "outputs": [],
   "source": [
    "train_ds = StockDataset(X_train, y_train)\n",
    "dev_ds = StockDataset(X_dev, y_dev)\n",
    "\n",
    "train_loader = DataLoader(train_ds, 128, num_workers=4)\n",
    "dev_loader = DataLoader(dev_ds, 128, num_workers=4)"
   ]
  },
  {
   "cell_type": "code",
   "execution_count": 13,
   "id": "148ce78c-24c3-4daf-9f00-8fccd7dd85c6",
   "metadata": {},
   "outputs": [],
   "source": [
    "optimizer = optim.Adam(net.parameters(), lr=1e-4)"
   ]
  },
  {
   "cell_type": "code",
   "execution_count": 14,
   "id": "c3922c1d-5501-443e-8415-e87e8e536bdc",
   "metadata": {},
   "outputs": [],
   "source": [
    "epochs = 100\n",
    "criterion = torch.nn.BCELoss()"
   ]
  },
  {
   "cell_type": "code",
   "execution_count": 16,
   "id": "4b8a6efa-491d-4647-8f84-6703eba7731e",
   "metadata": {},
   "outputs": [
    {
     "name": "stdout",
     "output_type": "stream",
     "text": [
      "####################################################################################################\n",
      "epoch: 000\n",
      "Loss: 0.08   Train Accuracy: 95.35   Dev Accuracy: 86.17\n",
      "####################################################################################################\n",
      "epoch: 001\n",
      "Loss: 0.08   Train Accuracy: 95.44   Dev Accuracy: 86.43\n",
      "####################################################################################################\n",
      "epoch: 002\n",
      "Loss: 0.08   Train Accuracy: 95.79   Dev Accuracy: 86.70\n",
      "####################################################################################################\n",
      "epoch: 003\n",
      "Loss: 0.06   Train Accuracy: 95.86   Dev Accuracy: 86.59\n",
      "####################################################################################################\n",
      "epoch: 004\n",
      "Loss: 0.06   Train Accuracy: 96.03   Dev Accuracy: 86.49\n",
      "####################################################################################################\n",
      "epoch: 005\n",
      "Loss: 0.05   Train Accuracy: 95.88   Dev Accuracy: 85.99\n",
      "####################################################################################################\n",
      "epoch: 006\n",
      "Loss: 0.05   Train Accuracy: 95.98   Dev Accuracy: 86.94\n",
      "####################################################################################################\n",
      "epoch: 007\n",
      "Loss: 0.05   Train Accuracy: 96.36   Dev Accuracy: 86.46\n",
      "####################################################################################################\n",
      "epoch: 008\n",
      "Loss: 0.05   Train Accuracy: 95.89   Dev Accuracy: 86.62\n",
      "####################################################################################################\n",
      "epoch: 009\n",
      "Loss: 0.05   Train Accuracy: 95.45   Dev Accuracy: 85.52\n",
      "####################################################################################################\n",
      "epoch: 010\n",
      "Loss: 0.05   Train Accuracy: 95.96   Dev Accuracy: 86.78\n",
      "####################################################################################################\n",
      "epoch: 011\n",
      "Loss: 0.04   Train Accuracy: 95.04   Dev Accuracy: 86.72\n",
      "####################################################################################################\n",
      "epoch: 012\n",
      "Loss: 0.04   Train Accuracy: 93.24   Dev Accuracy: 85.28\n",
      "####################################################################################################\n",
      "epoch: 013\n",
      "Loss: 0.05   Train Accuracy: 96.26   Dev Accuracy: 86.82\n",
      "####################################################################################################\n",
      "epoch: 014\n",
      "Loss: 0.04   Train Accuracy: 94.56   Dev Accuracy: 86.61\n",
      "####################################################################################################\n",
      "epoch: 015\n",
      "Loss: 0.04   Train Accuracy: 95.25   Dev Accuracy: 87.03\n",
      "####################################################################################################\n",
      "epoch: 016\n",
      "Loss: 0.04   Train Accuracy: 95.67   Dev Accuracy: 86.87\n",
      "####################################################################################################\n",
      "epoch: 017\n",
      "Loss: 0.05   Train Accuracy: 94.11   Dev Accuracy: 86.17\n",
      "####################################################################################################\n",
      "epoch: 018\n",
      "Loss: 0.05   Train Accuracy: 95.77   Dev Accuracy: 87.00\n",
      "####################################################################################################\n",
      "epoch: 019\n",
      "Loss: 0.05   Train Accuracy: 93.38   Dev Accuracy: 85.29\n",
      "####################################################################################################\n",
      "epoch: 020\n",
      "Loss: 0.05   Train Accuracy: 92.74   Dev Accuracy: 85.20\n",
      "####################################################################################################\n",
      "epoch: 021\n",
      "Loss: 0.05   Train Accuracy: 88.78   Dev Accuracy: 82.67\n",
      "####################################################################################################\n",
      "epoch: 022\n",
      "Loss: 0.06   Train Accuracy: 91.91   Dev Accuracy: 84.68\n",
      "####################################################################################################\n",
      "epoch: 023\n",
      "Loss: 0.05   Train Accuracy: 95.51   Dev Accuracy: 86.92\n",
      "####################################################################################################\n",
      "epoch: 024\n",
      "Loss: 0.05   Train Accuracy: 95.23   Dev Accuracy: 87.08\n",
      "####################################################################################################\n",
      "epoch: 025\n",
      "Loss: 0.05   Train Accuracy: 94.39   Dev Accuracy: 86.25\n",
      "####################################################################################################\n",
      "epoch: 026\n",
      "Loss: 0.04   Train Accuracy: 93.96   Dev Accuracy: 86.12\n",
      "####################################################################################################\n",
      "epoch: 027\n",
      "Loss: 0.04   Train Accuracy: 93.75   Dev Accuracy: 85.55\n",
      "####################################################################################################\n",
      "epoch: 028\n",
      "Loss: 0.04   Train Accuracy: 93.58   Dev Accuracy: 85.76\n",
      "####################################################################################################\n",
      "epoch: 029\n",
      "Loss: 0.04   Train Accuracy: 96.58   Dev Accuracy: 87.33\n",
      "####################################################################################################\n",
      "epoch: 030\n",
      "Loss: 0.04   Train Accuracy: 96.71   Dev Accuracy: 87.50\n",
      "####################################################################################################\n",
      "epoch: 031\n",
      "Loss: 0.04   Train Accuracy: 96.07   Dev Accuracy: 87.25\n",
      "####################################################################################################\n",
      "epoch: 032\n",
      "Loss: 0.04   Train Accuracy: 94.79   Dev Accuracy: 86.81\n",
      "####################################################################################################\n",
      "epoch: 033\n",
      "Loss: 0.03   Train Accuracy: 97.27   Dev Accuracy: 87.96\n",
      "####################################################################################################\n",
      "epoch: 034\n",
      "Loss: 0.04   Train Accuracy: 97.14   Dev Accuracy: 87.40\n",
      "####################################################################################################\n",
      "epoch: 035\n",
      "Loss: 0.04   Train Accuracy: 95.64   Dev Accuracy: 86.71\n",
      "####################################################################################################\n",
      "epoch: 036\n",
      "Loss: 0.04   Train Accuracy: 96.40   Dev Accuracy: 87.30\n",
      "####################################################################################################\n",
      "epoch: 037\n",
      "Loss: 0.04   Train Accuracy: 97.15   Dev Accuracy: 87.93\n",
      "####################################################################################################\n",
      "epoch: 038\n",
      "Loss: 0.04   Train Accuracy: 97.00   Dev Accuracy: 87.55\n",
      "####################################################################################################\n",
      "epoch: 039\n",
      "Loss: 0.04   Train Accuracy: 96.58   Dev Accuracy: 87.59\n",
      "####################################################################################################\n",
      "epoch: 040\n",
      "Loss: 0.04   Train Accuracy: 96.94   Dev Accuracy: 87.63\n",
      "####################################################################################################\n",
      "epoch: 041\n",
      "Loss: 0.04   Train Accuracy: 96.64   Dev Accuracy: 86.96\n",
      "####################################################################################################\n",
      "epoch: 042\n",
      "Loss: 0.04   Train Accuracy: 97.04   Dev Accuracy: 87.71\n",
      "####################################################################################################\n",
      "epoch: 043\n",
      "Loss: 0.03   Train Accuracy: 96.96   Dev Accuracy: 88.02\n",
      "####################################################################################################\n",
      "epoch: 044\n",
      "Loss: 0.03   Train Accuracy: 96.84   Dev Accuracy: 88.27\n",
      "####################################################################################################\n",
      "epoch: 045\n",
      "Loss: 0.03   Train Accuracy: 97.36   Dev Accuracy: 88.20\n",
      "####################################################################################################\n",
      "epoch: 046\n",
      "Loss: 0.03   Train Accuracy: 97.03   Dev Accuracy: 87.22\n",
      "####################################################################################################\n",
      "epoch: 047\n",
      "Loss: 0.03   Train Accuracy: 97.20   Dev Accuracy: 87.82\n",
      "####################################################################################################\n",
      "epoch: 048\n",
      "Loss: 0.03   Train Accuracy: 95.02   Dev Accuracy: 86.83\n",
      "####################################################################################################\n",
      "epoch: 049\n",
      "Loss: 0.03   Train Accuracy: 97.44   Dev Accuracy: 87.80\n",
      "####################################################################################################\n",
      "epoch: 050\n",
      "Loss: 0.03   Train Accuracy: 96.56   Dev Accuracy: 87.65\n",
      "####################################################################################################\n",
      "epoch: 051\n",
      "Loss: 0.03   Train Accuracy: 97.22   Dev Accuracy: 87.96\n",
      "####################################################################################################\n",
      "epoch: 052\n",
      "Loss: 0.03   Train Accuracy: 95.90   Dev Accuracy: 87.17\n",
      "####################################################################################################\n",
      "epoch: 053\n",
      "Loss: 0.03   Train Accuracy: 96.25   Dev Accuracy: 87.54\n",
      "####################################################################################################\n",
      "epoch: 054\n",
      "Loss: 0.03   Train Accuracy: 96.76   Dev Accuracy: 87.99\n",
      "####################################################################################################\n",
      "epoch: 055\n",
      "Loss: 0.03   Train Accuracy: 96.46   Dev Accuracy: 87.96\n",
      "####################################################################################################\n",
      "epoch: 056\n",
      "Loss: 0.04   Train Accuracy: 94.34   Dev Accuracy: 86.44\n",
      "####################################################################################################\n",
      "epoch: 057\n",
      "Loss: 0.03   Train Accuracy: 97.31   Dev Accuracy: 87.96\n",
      "####################################################################################################\n",
      "epoch: 058\n",
      "Loss: 0.03   Train Accuracy: 97.15   Dev Accuracy: 87.94\n",
      "####################################################################################################\n",
      "epoch: 059\n",
      "Loss: 0.03   Train Accuracy: 97.17   Dev Accuracy: 88.26\n",
      "####################################################################################################\n",
      "epoch: 060\n",
      "Loss: 0.03   Train Accuracy: 97.14   Dev Accuracy: 87.62\n",
      "####################################################################################################\n",
      "epoch: 061\n",
      "Loss: 0.03   Train Accuracy: 96.49   Dev Accuracy: 87.61\n",
      "####################################################################################################\n",
      "epoch: 062\n",
      "Loss: 0.03   Train Accuracy: 96.88   Dev Accuracy: 87.19\n",
      "####################################################################################################\n",
      "epoch: 063\n",
      "Loss: 0.03   Train Accuracy: 97.21   Dev Accuracy: 88.11\n",
      "####################################################################################################\n",
      "epoch: 064\n",
      "Loss: 0.03   Train Accuracy: 97.35   Dev Accuracy: 88.25\n",
      "####################################################################################################\n",
      "epoch: 065\n",
      "Loss: 0.03   Train Accuracy: 97.11   Dev Accuracy: 88.02\n",
      "####################################################################################################\n",
      "epoch: 066\n",
      "Loss: 0.03   Train Accuracy: 96.75   Dev Accuracy: 87.27\n",
      "####################################################################################################\n",
      "epoch: 067\n",
      "Loss: 0.03   Train Accuracy: 97.50   Dev Accuracy: 88.31\n",
      "####################################################################################################\n",
      "epoch: 068\n",
      "Loss: 0.03   Train Accuracy: 97.38   Dev Accuracy: 88.17\n",
      "####################################################################################################\n",
      "epoch: 069\n",
      "Loss: 0.03   Train Accuracy: 97.31   Dev Accuracy: 88.33\n",
      "####################################################################################################\n",
      "epoch: 070\n",
      "Loss: 0.03   Train Accuracy: 97.32   Dev Accuracy: 88.57\n",
      "####################################################################################################\n",
      "epoch: 071\n",
      "Loss: 0.03   Train Accuracy: 97.21   Dev Accuracy: 87.67\n",
      "####################################################################################################\n",
      "epoch: 072\n",
      "Loss: 0.03   Train Accuracy: 97.34   Dev Accuracy: 88.28\n",
      "####################################################################################################\n",
      "epoch: 073\n",
      "Loss: 0.03   Train Accuracy: 93.43   Dev Accuracy: 85.73\n",
      "####################################################################################################\n",
      "epoch: 074\n",
      "Loss: 0.03   Train Accuracy: 97.54   Dev Accuracy: 88.34\n",
      "####################################################################################################\n",
      "epoch: 075\n",
      "Loss: 0.02   Train Accuracy: 96.84   Dev Accuracy: 88.00\n",
      "####################################################################################################\n",
      "epoch: 076\n",
      "Loss: 0.03   Train Accuracy: 97.62   Dev Accuracy: 88.48\n",
      "####################################################################################################\n",
      "epoch: 077\n",
      "Loss: 0.03   Train Accuracy: 97.69   Dev Accuracy: 88.32\n",
      "####################################################################################################\n",
      "epoch: 078\n",
      "Loss: 0.03   Train Accuracy: 97.71   Dev Accuracy: 88.42\n",
      "####################################################################################################\n",
      "epoch: 079\n",
      "Loss: 0.03   Train Accuracy: 97.46   Dev Accuracy: 88.03\n",
      "####################################################################################################\n",
      "epoch: 080\n",
      "Loss: 0.02   Train Accuracy: 97.31   Dev Accuracy: 87.80\n",
      "####################################################################################################\n",
      "epoch: 081\n",
      "Loss: 0.02   Train Accuracy: 97.05   Dev Accuracy: 87.67\n",
      "####################################################################################################\n",
      "epoch: 082\n",
      "Loss: 0.02   Train Accuracy: 97.83   Dev Accuracy: 88.66\n",
      "####################################################################################################\n",
      "epoch: 083\n",
      "Loss: 0.02   Train Accuracy: 97.82   Dev Accuracy: 88.78\n",
      "####################################################################################################\n",
      "epoch: 084\n",
      "Loss: 0.02   Train Accuracy: 96.70   Dev Accuracy: 86.86\n",
      "####################################################################################################\n",
      "epoch: 085\n",
      "Loss: 0.02   Train Accuracy: 97.42   Dev Accuracy: 87.98\n",
      "####################################################################################################\n",
      "epoch: 086\n",
      "Loss: 0.02   Train Accuracy: 97.70   Dev Accuracy: 88.44\n",
      "####################################################################################################\n",
      "epoch: 087\n",
      "Loss: 0.02   Train Accuracy: 96.41   Dev Accuracy: 86.64\n",
      "####################################################################################################\n",
      "epoch: 088\n",
      "Loss: 0.02   Train Accuracy: 97.86   Dev Accuracy: 88.75\n",
      "####################################################################################################\n",
      "epoch: 089\n",
      "Loss: 0.02   Train Accuracy: 96.93   Dev Accuracy: 87.42\n",
      "####################################################################################################\n",
      "epoch: 090\n",
      "Loss: 0.02   Train Accuracy: 97.88   Dev Accuracy: 88.64\n",
      "####################################################################################################\n",
      "epoch: 091\n",
      "Loss: 0.02   Train Accuracy: 97.66   Dev Accuracy: 88.48\n",
      "####################################################################################################\n",
      "epoch: 092\n",
      "Loss: 0.02   Train Accuracy: 97.44   Dev Accuracy: 87.91\n",
      "####################################################################################################\n",
      "epoch: 093\n",
      "Loss: 0.02   Train Accuracy: 97.11   Dev Accuracy: 87.87\n",
      "####################################################################################################\n",
      "epoch: 094\n",
      "Loss: 0.02   Train Accuracy: 97.44   Dev Accuracy: 88.05\n",
      "####################################################################################################\n",
      "epoch: 095\n",
      "Loss: 0.02   Train Accuracy: 96.81   Dev Accuracy: 87.38\n",
      "####################################################################################################\n",
      "epoch: 096\n",
      "Loss: 0.02   Train Accuracy: 96.91   Dev Accuracy: 87.10\n",
      "####################################################################################################\n",
      "epoch: 097\n",
      "Loss: 0.02   Train Accuracy: 97.75   Dev Accuracy: 88.25\n",
      "####################################################################################################\n",
      "epoch: 098\n",
      "Loss: 0.02   Train Accuracy: 97.70   Dev Accuracy: 88.05\n",
      "####################################################################################################\n",
      "epoch: 099\n",
      "Loss: 0.02   Train Accuracy: 97.91   Dev Accuracy: 88.68\n"
     ]
    }
   ],
   "source": [
    "for epoch in range(epochs):\n",
    "    print('#'*100)\n",
    "    print(f'epoch: {epoch:03d}')\n",
    "    \n",
    "    avg_loss = 0\n",
    "    epoch_size = 0\n",
    "    for i, data in enumerate(train_loader):\n",
    "        X_batch = data[0].to(device).float()\n",
    "        y_batch = data[1].to(device).float()\n",
    "        \n",
    "        optimizer.zero_grad()\n",
    "        \n",
    "        out = net(X_batch).reshape(-1,)\n",
    "        \n",
    "        loss = criterion(out, y_batch)\n",
    "        loss.backward()\n",
    "        \n",
    "        optimizer.step()\n",
    "        \n",
    "        avg_loss += loss.item()\n",
    "        epoch_size += 1\n",
    "    \n",
    "    train_acc = get_accuracy(train_loader, net)\n",
    "    dev_acc = get_accuracy(dev_loader, net)\n",
    "    print(f'Loss: {avg_loss/epoch_size:4.2f}   Train Accuracy: {train_acc:4.2f}   Dev Accuracy: {dev_acc:4.2f}')"
   ]
  },
  {
   "cell_type": "code",
   "execution_count": 17,
   "id": "5641f7fb-afa9-4388-a240-a682b860d7f4",
   "metadata": {},
   "outputs": [],
   "source": [
    "!mkdir model_checkpoints"
   ]
  },
  {
   "cell_type": "code",
   "execution_count": 19,
   "id": "43a29664-33d4-4143-bdb5-229e8841738d",
   "metadata": {},
   "outputs": [],
   "source": [
    "torch.save(net, 'model_checkpoints/model.pt')"
   ]
  },
  {
   "cell_type": "code",
   "execution_count": 20,
   "id": "07a03827-bc3a-4978-925b-48c8131304d1",
   "metadata": {},
   "outputs": [],
   "source": [
    "net2 = torch.load('model_checkpoints/model.pt')"
   ]
  },
  {
   "cell_type": "code",
   "execution_count": 21,
   "id": "6bd12c8b-f02e-4380-982c-108aaa048593",
   "metadata": {},
   "outputs": [
    {
     "data": {
      "text/plain": [
       "ClassifierModel(\n",
       "  (linear1): Linear(in_features=768, out_features=250, bias=True)\n",
       "  (activation1): ReLU()\n",
       "  (linear2): Linear(in_features=250, out_features=250, bias=True)\n",
       "  (dropout2): Dropout(p=0.5, inplace=False)\n",
       "  (activation2): ReLU()\n",
       "  (linear3): Linear(in_features=250, out_features=1, bias=True)\n",
       "  (sigmoid): Sigmoid()\n",
       ")"
      ]
     },
     "execution_count": 21,
     "metadata": {},
     "output_type": "execute_result"
    }
   ],
   "source": [
    "net2.eval()"
   ]
  },
  {
   "cell_type": "code",
   "execution_count": 24,
   "id": "f5075e4e-696a-4346-8ef3-2e11ecb30bc0",
   "metadata": {},
   "outputs": [],
   "source": [
    "def get_class_accuracy(loader, net):\n",
    "    total_pos = 0\n",
    "    correct_pos = 0\n",
    "    \n",
    "    total_neg = 0\n",
    "    correct_neg = 0\n",
    "    net.eval()\n",
    "    with torch.no_grad():\n",
    "        for data in loader:\n",
    "            X, y = data[0].to(device).float(), data[1].to(device).int()\n",
    "            y_pred = net(X)\n",
    "            pos = (y_pred > 0.5).reshape(-1,)\n",
    "            neg = (y_pred < 0.5).reshape(-1,)\n",
    "        \n",
    "\n",
    "            correct_pos += (y[pos]==1).sum().item()\n",
    "            total_pos += y[pos].size(0)\n",
    "            \n",
    "            correct_neg += (y[neg]==0).sum().item()\n",
    "            total_neg += y[neg].size(0)\n",
    "    net.train()\n",
    "    return correct_pos/total_pos, correct_neg/total_neg"
   ]
  },
  {
   "cell_type": "code",
   "execution_count": 25,
   "id": "14c9c0a6-efb6-455d-bae0-5c6594029570",
   "metadata": {},
   "outputs": [
    {
     "data": {
      "text/plain": [
       "(0.9791464550894753, 0.9789230446047196)"
      ]
     },
     "execution_count": 25,
     "metadata": {},
     "output_type": "execute_result"
    }
   ],
   "source": [
    "get_class_accuracy(train_loader, net2)"
   ]
  },
  {
   "cell_type": "code",
   "execution_count": 26,
   "id": "7ec1a891-bde7-45a7-b892-994266e914de",
   "metadata": {},
   "outputs": [
    {
     "data": {
      "text/plain": [
       "(0.8749867345855884, 0.9060564349621473)"
      ]
     },
     "execution_count": 26,
     "metadata": {},
     "output_type": "execute_result"
    }
   ],
   "source": [
    "get_class_accuracy(dev_loader, net2)"
   ]
  },
  {
   "cell_type": "code",
   "execution_count": null,
   "id": "6d74efc6-911f-4a40-99ca-ef6f60243984",
   "metadata": {},
   "outputs": [],
   "source": []
  }
 ],
 "metadata": {
  "kernelspec": {
   "display_name": "Python 3 (ipykernel)",
   "language": "python",
   "name": "python3"
  },
  "language_info": {
   "codemirror_mode": {
    "name": "ipython",
    "version": 3
   },
   "file_extension": ".py",
   "mimetype": "text/x-python",
   "name": "python",
   "nbconvert_exporter": "python",
   "pygments_lexer": "ipython3",
   "version": "3.8.3"
  }
 },
 "nbformat": 4,
 "nbformat_minor": 5
}
